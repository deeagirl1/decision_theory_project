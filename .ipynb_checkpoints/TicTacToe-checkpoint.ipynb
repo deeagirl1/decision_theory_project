{
 "cells": [
  {
   "cell_type": "markdown",
   "metadata": {},
   "source": [
    "# Tic Tac Toe"
   ]
  },
  {
   "cell_type": "code",
   "execution_count": 35,
   "metadata": {},
   "outputs": [],
   "source": [
    "import numpy as np\n",
    "from itertools import product\n",
    "import pandas as pd\n",
    "import random\n",
    "from collections import defaultdict\n",
    "from tqdm import tqdm\n",
    "from collections import Counter\n",
    "import seaborn as sns\n",
    "from matplotlib import pyplot as plt"
   ]
  },
  {
   "cell_type": "code",
   "execution_count": 36,
   "metadata": {},
   "outputs": [],
   "source": [
    "class TicTacToe():\n",
    "    def __init__(self,player = 'X',reward_type ='goal_reward'):\n",
    "        self.board = np.array(['__']*9).reshape(3,3)\n",
    "        self.reward_type = reward_type\n",
    "        self.winning_seqeunce = None #Keep track of winning move made by agent\n",
    "        self.first_move = None #Keep track of first move made by agent\n",
    "        if player == 'X':\n",
    "            self.me ='X'\n",
    "            self.id = 1\n",
    "            self.opponent = 'O'\n",
    "        else:\n",
    "            self.me = 'O'\n",
    "            self.id = 2\n",
    "            self.opponent = 'X'\n",
    "     \n",
    "        self.game_over = False #Flag indicating whether game is over\n",
    "        # Mapping of action representation in board to action representation in tuple \n",
    "        self.b_to_s = {'__':0,'X':1,'O':2} \n",
    "        # Mapping of action representation in tuple to action representation in board\n",
    "        self.s_to_b = {0:'__',1:'X',2:'O'} \n",
    "        \n",
    "        #Create mapping from 2D position in board to 1D position in tuple\n",
    "        positions = self.available_positions()\n",
    "        self.b2_to_s1 = {position:i for (i,position) in enumerate(positions)}\n",
    "        \n",
    "        #Create mapping from 1D position in tuple to 2D position in board \n",
    "        self.s1_to_b2 = {i:position for (i,position) in enumerate(positions)}\n",
    "        \n",
    "        #State the current player is in\n",
    "        self.starting_state = self.board_to_state()\n",
    "        \n",
    "        #Initialize all possible states of the game\n",
    "        l_o_l = [list(range(3)) for _ in range(9)]\n",
    "        states = set(product(*l_o_l))\n",
    "        \n",
    "\n",
    "        \n",
    "        #Player X states include states with odd number of blanks and both players have occupied equal number of slots\n",
    "        #Player O players after Player X, so player O states include states with even number of blanks and where\n",
    "        #player X has occupied one more slot than player O\n",
    "        playerX_states = {state for state in states if (state.count(0)%2 == 1 and state.count(1)==state.count(2))} #\n",
    "        playerO_states =  {state for state in states if (state.count(0)%2 == 0 and state.count(1)==(state.count(2)+1))}\n",
    "        \n",
    "        #States \n",
    "        #self.board_full_states = {state for state in states if state.count(0)==0}\n",
    "        if player == 'X':\n",
    "            self.my_states = playerX_states\n",
    "        else:\n",
    "            self.my_states = playerO_states\n",
    "          \n",
    "    \n",
    "    def reset_board(self):\n",
    "        self.board = np.array(['__']*9).reshape(3,3)\n",
    "        self.starting_state = self.board_to_state()\n",
    "        self.game_over = False\n",
    "        self.winning_sequence = None\n",
    "        self.first_move = None\n",
    "    \n",
    "    def show_board(self):    \n",
    "        return pd.DataFrame(self.board)\n",
    "    \n",
    "    def board_to_state(self):\n",
    "        return tuple([self.b_to_s[x] for x in np.ravel(self.board)])\n",
    "    \n",
    "    @staticmethod\n",
    "    def possible_actions(state):\n",
    "        return [i for i,x  in enumerate(state) if x ==0]\n",
    "    \n",
    "\n",
    "        \n",
    "    def is_game_over(self):\n",
    "        if not np.any(self.board == '__') :\n",
    "            self.game_over = True\n",
    "            \n",
    "        return self.game_over\n",
    "    \n",
    "    def available_positions(self):\n",
    "        x,y = np.where(self.board =='__')\n",
    "        return[(x,y) for x,y in zip(x,y)]\n",
    "    \n",
    "    \n",
    "    def win(self,player):\n",
    "        if np.all(self.board[0,:] == player):\n",
    "            self.winning_sequence = 'R1'\n",
    "        elif np.all(self.board[1,:] == player): \n",
    "            self.winning_sequence = 'R2'\n",
    "        elif np.all(self.board[2,:] == player):\n",
    "            self.winning_sequence = 'R3'\n",
    "        elif np.all(self.board[:,0] == player):\n",
    "            self.winning_sequence = 'C1'\n",
    "        elif np.all(self.board[:,1] == player):\n",
    "            self.winning_sequence = 'C2'\n",
    "        elif np.all(self.board[:,2] == player):\n",
    "            self.winning_sequence = 'C3'\n",
    "        elif np.all(self.board.diagonal()==player):\n",
    "            self.winning_sequence = 'D1'\n",
    "        elif  np.all(np.fliplr(self.board).diagonal()==player):\n",
    "            self.winning_sequence = 'D2'\n",
    "        else:\n",
    "            return False\n",
    "        \n",
    "        return True\n",
    "    \n",
    "    \n",
    "    def my_move(self,position):       \n",
    "        assert position[0] >= 0 and position[0] <= 2 and position[1] >= 0 and position[1] <= 2 , \"incorrect position\"\n",
    "        assert self.board[position] == \"__\" , \"position already filled\"\n",
    "        assert np.any(self.board == '__') , \"Board is complete\"\n",
    "        assert self.win(self.me) == False and self.win(self.opponent)== False , \" Game has already been won\"\n",
    "        self.board[position] = self.me\n",
    "        \n",
    "        I_win = self.win(self.me)\n",
    "        opponent_win = self.win(self.opponent)\n",
    "        \n",
    "        if self.reward_type == 'goal_reward':\n",
    "            if I_win:\n",
    "                self.game_over = True\n",
    "                return 1\n",
    "            \n",
    "            elif opponent_win:\n",
    "                self.game_over = True\n",
    "                return -1\n",
    "            \n",
    "            else:\n",
    "                return 0\n",
    "            \n",
    "        elif self.reward_type == 'action_penalty':\n",
    "            if I_win:\n",
    "                self.game_over = True\n",
    "                return 0\n",
    "            \n",
    "            elif opponent_win:\n",
    "                self.game_over = True\n",
    "                return -10\n",
    "            \n",
    "            else:\n",
    "                return -1\n",
    "    \n",
    "    def opponent_move(self,position):\n",
    "        assert position[0] >= 0 and position[0] <= 2 and position[1] >= 0 and position[1] <= 2 , \"incorrect position\"\n",
    "        assert self.board[position] == \"__\" , \"position already filled\"\n",
    "        assert np.any(self.board == '__') , \"Board is complete\"\n",
    "        assert self.win(self.me) == False and self.win(self.opponent)== False , \" Game has already been won\"\n",
    "        self.board[position] = self.opponent\n",
    "            \n",
    "    \n",
    "    def pick_best_action(self,Q,action_type,eps=None):\n",
    "        #Get possible actions\n",
    "        current_state = self.board_to_state()\n",
    "        actions =  self.possible_actions(current_state)\n",
    "        \n",
    "        best_action = []\n",
    "        best_action_value = -np.Inf\n",
    "        \n",
    "        for action in actions:\n",
    "            Q_s_a = Q[current_state][action]\n",
    "            if Q_s_a == best_action_value:\n",
    "                best_action.append(action)\n",
    "            elif Q_s_a > best_action_value:\n",
    "                best_action = [action]\n",
    "                best_action_value = Q_s_a\n",
    "        best_action = random.choice(best_action)\n",
    "\n",
    "        if action_type == 'greedy':\n",
    "            return self.s1_to_b2[best_action]\n",
    "        else:\n",
    "            assert eps != None , \"Include epsilon parameter\"\n",
    "            n_actions =len(actions) #No of legal actions \n",
    "            p = np.full(n_actions,eps/n_actions)\n",
    "            #Get index of best action\n",
    "            best_action_i = actions.index(best_action)\n",
    "            p[best_action_i]+= 1 - eps\n",
    "            return self.s1_to_b2[np.random.choice(actions,p=p)]"
   ]
  },
  {
   "cell_type": "code",
   "execution_count": 37,
   "metadata": {},
   "outputs": [
    {
     "data": {
      "text/html": [
       "<div>\n",
       "<style scoped>\n",
       "    .dataframe tbody tr th:only-of-type {\n",
       "        vertical-align: middle;\n",
       "    }\n",
       "\n",
       "    .dataframe tbody tr th {\n",
       "        vertical-align: top;\n",
       "    }\n",
       "\n",
       "    .dataframe thead th {\n",
       "        text-align: right;\n",
       "    }\n",
       "</style>\n",
       "<table border=\"1\" class=\"dataframe\">\n",
       "  <thead>\n",
       "    <tr style=\"text-align: right;\">\n",
       "      <th></th>\n",
       "      <th>0</th>\n",
       "      <th>1</th>\n",
       "      <th>2</th>\n",
       "    </tr>\n",
       "  </thead>\n",
       "  <tbody>\n",
       "    <tr>\n",
       "      <th>0</th>\n",
       "      <td>__</td>\n",
       "      <td>__</td>\n",
       "      <td>__</td>\n",
       "    </tr>\n",
       "    <tr>\n",
       "      <th>1</th>\n",
       "      <td>__</td>\n",
       "      <td>__</td>\n",
       "      <td>__</td>\n",
       "    </tr>\n",
       "    <tr>\n",
       "      <th>2</th>\n",
       "      <td>__</td>\n",
       "      <td>__</td>\n",
       "      <td>__</td>\n",
       "    </tr>\n",
       "  </tbody>\n",
       "</table>\n",
       "</div>"
      ],
      "text/plain": [
       "    0   1   2\n",
       "0  __  __  __\n",
       "1  __  __  __\n",
       "2  __  __  __"
      ]
     },
     "execution_count": 37,
     "metadata": {},
     "output_type": "execute_result"
    }
   ],
   "source": [
    "t_board_X = TicTacToe(player = 'X',reward_type ='goal_reward')\n",
    "t_board_X.show_board()"
   ]
  },
  {
   "cell_type": "code",
   "execution_count": 38,
   "metadata": {},
   "outputs": [
    {
     "data": {
      "text/plain": [
       "0"
      ]
     },
     "execution_count": 38,
     "metadata": {},
     "output_type": "execute_result"
    }
   ],
   "source": [
    "t_board_X.my_move((0,0))"
   ]
  },
  {
   "cell_type": "code",
   "execution_count": 39,
   "metadata": {},
   "outputs": [
    {
     "data": {
      "text/html": [
       "<div>\n",
       "<style scoped>\n",
       "    .dataframe tbody tr th:only-of-type {\n",
       "        vertical-align: middle;\n",
       "    }\n",
       "\n",
       "    .dataframe tbody tr th {\n",
       "        vertical-align: top;\n",
       "    }\n",
       "\n",
       "    .dataframe thead th {\n",
       "        text-align: right;\n",
       "    }\n",
       "</style>\n",
       "<table border=\"1\" class=\"dataframe\">\n",
       "  <thead>\n",
       "    <tr style=\"text-align: right;\">\n",
       "      <th></th>\n",
       "      <th>0</th>\n",
       "      <th>1</th>\n",
       "      <th>2</th>\n",
       "    </tr>\n",
       "  </thead>\n",
       "  <tbody>\n",
       "    <tr>\n",
       "      <th>0</th>\n",
       "      <td>X</td>\n",
       "      <td>__</td>\n",
       "      <td>__</td>\n",
       "    </tr>\n",
       "    <tr>\n",
       "      <th>1</th>\n",
       "      <td>__</td>\n",
       "      <td>__</td>\n",
       "      <td>__</td>\n",
       "    </tr>\n",
       "    <tr>\n",
       "      <th>2</th>\n",
       "      <td>__</td>\n",
       "      <td>__</td>\n",
       "      <td>__</td>\n",
       "    </tr>\n",
       "  </tbody>\n",
       "</table>\n",
       "</div>"
      ],
      "text/plain": [
       "    0   1   2\n",
       "0   X  __  __\n",
       "1  __  __  __\n",
       "2  __  __  __"
      ]
     },
     "execution_count": 39,
     "metadata": {},
     "output_type": "execute_result"
    }
   ],
   "source": [
    "t_board_X.show_board()"
   ]
  },
  {
   "cell_type": "code",
   "execution_count": 40,
   "metadata": {},
   "outputs": [
    {
     "data": {
      "text/html": [
       "<div>\n",
       "<style scoped>\n",
       "    .dataframe tbody tr th:only-of-type {\n",
       "        vertical-align: middle;\n",
       "    }\n",
       "\n",
       "    .dataframe tbody tr th {\n",
       "        vertical-align: top;\n",
       "    }\n",
       "\n",
       "    .dataframe thead th {\n",
       "        text-align: right;\n",
       "    }\n",
       "</style>\n",
       "<table border=\"1\" class=\"dataframe\">\n",
       "  <thead>\n",
       "    <tr style=\"text-align: right;\">\n",
       "      <th></th>\n",
       "      <th>0</th>\n",
       "      <th>1</th>\n",
       "      <th>2</th>\n",
       "    </tr>\n",
       "  </thead>\n",
       "  <tbody>\n",
       "    <tr>\n",
       "      <th>0</th>\n",
       "      <td>X</td>\n",
       "      <td>O</td>\n",
       "      <td>__</td>\n",
       "    </tr>\n",
       "    <tr>\n",
       "      <th>1</th>\n",
       "      <td>__</td>\n",
       "      <td>__</td>\n",
       "      <td>__</td>\n",
       "    </tr>\n",
       "    <tr>\n",
       "      <th>2</th>\n",
       "      <td>__</td>\n",
       "      <td>__</td>\n",
       "      <td>__</td>\n",
       "    </tr>\n",
       "  </tbody>\n",
       "</table>\n",
       "</div>"
      ],
      "text/plain": [
       "    0   1   2\n",
       "0   X   O  __\n",
       "1  __  __  __\n",
       "2  __  __  __"
      ]
     },
     "execution_count": 40,
     "metadata": {},
     "output_type": "execute_result"
    }
   ],
   "source": [
    "t_board_X.opponent_move((0,1))\n",
    "t_board_X.show_board()"
   ]
  },
  {
   "cell_type": "code",
   "execution_count": 41,
   "metadata": {},
   "outputs": [
    {
     "data": {
      "text/plain": [
       "0"
      ]
     },
     "execution_count": 41,
     "metadata": {},
     "output_type": "execute_result"
    }
   ],
   "source": [
    "t_board_X.my_move((1,0))"
   ]
  },
  {
   "cell_type": "code",
   "execution_count": 42,
   "metadata": {},
   "outputs": [
    {
     "data": {
      "text/plain": [
       "1"
      ]
     },
     "execution_count": 42,
     "metadata": {},
     "output_type": "execute_result"
    }
   ],
   "source": [
    "t_board_X.opponent_move((1,1))\n",
    "t_board_X.my_move((2,0))"
   ]
  },
  {
   "cell_type": "code",
   "execution_count": 43,
   "metadata": {},
   "outputs": [
    {
     "data": {
      "text/html": [
       "<div>\n",
       "<style scoped>\n",
       "    .dataframe tbody tr th:only-of-type {\n",
       "        vertical-align: middle;\n",
       "    }\n",
       "\n",
       "    .dataframe tbody tr th {\n",
       "        vertical-align: top;\n",
       "    }\n",
       "\n",
       "    .dataframe thead th {\n",
       "        text-align: right;\n",
       "    }\n",
       "</style>\n",
       "<table border=\"1\" class=\"dataframe\">\n",
       "  <thead>\n",
       "    <tr style=\"text-align: right;\">\n",
       "      <th></th>\n",
       "      <th>0</th>\n",
       "      <th>1</th>\n",
       "      <th>2</th>\n",
       "    </tr>\n",
       "  </thead>\n",
       "  <tbody>\n",
       "    <tr>\n",
       "      <th>0</th>\n",
       "      <td>X</td>\n",
       "      <td>O</td>\n",
       "      <td>__</td>\n",
       "    </tr>\n",
       "    <tr>\n",
       "      <th>1</th>\n",
       "      <td>X</td>\n",
       "      <td>O</td>\n",
       "      <td>__</td>\n",
       "    </tr>\n",
       "    <tr>\n",
       "      <th>2</th>\n",
       "      <td>X</td>\n",
       "      <td>__</td>\n",
       "      <td>__</td>\n",
       "    </tr>\n",
       "  </tbody>\n",
       "</table>\n",
       "</div>"
      ],
      "text/plain": [
       "   0   1   2\n",
       "0  X   O  __\n",
       "1  X   O  __\n",
       "2  X  __  __"
      ]
     },
     "execution_count": 43,
     "metadata": {},
     "output_type": "execute_result"
    }
   ],
   "source": [
    "t_board_X.show_board()"
   ]
  }
 ],
 "metadata": {
  "interpreter": {
   "hash": "8ae76b5a86c2e5a34475ef048bb732971be42d9d09a1979dc6a1a66b91569831"
  },
  "kernelspec": {
   "display_name": "Python 3 (ipykernel)",
   "language": "python",
   "name": "python3"
  },
  "language_info": {
   "codemirror_mode": {
    "name": "ipython",
    "version": 3
   },
   "file_extension": ".py",
   "mimetype": "text/x-python",
   "name": "python",
   "nbconvert_exporter": "python",
   "pygments_lexer": "ipython3",
   "version": "3.10.2"
  }
 },
 "nbformat": 4,
 "nbformat_minor": 2
}
