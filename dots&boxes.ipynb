{
 "cells": [
  {
   "cell_type": "markdown",
   "metadata": {},
   "source": [
    "# Dots & Boxes - Decision Theory Project"
   ]
  },
  {
   "cell_type": "markdown",
   "metadata": {},
   "source": [
    "Within this project, we are going to implement the dots & boxes game by using different techniques learned during this course.\n"
   ]
  },
  {
   "cell_type": "code",
   "execution_count": 1,
   "metadata": {},
   "outputs": [],
   "source": [
    "from enum import Enum\n",
    "from random import randint, choice\n",
    "from copy import copy"
   ]
  },
  {
   "cell_type": "code",
   "execution_count": null,
   "metadata": {},
   "outputs": [],
   "source": [
    "Action = Enum('Action', 'Left Right Up Down')\n",
    "    \n",
    "Drift = Enum('Drift', 'Left Not Right')    \n",
    "\n",
    "class DotsAndBoxesEnv():\n",
    "    def render(self):\n",
    "        BACKGROUND = [\n",
    "            '  ┌───────┬───────┬───────┬───────┐',\n",
    "            '  │       │       │       │       │',\n",
    "            '3 │       │       │       │  + 1  │',\n",
    "            '  │       │       │       │       │',\n",
    "            '  ├───────┼───────┼───────┼───────┤',\n",
    "            '  │       │░░░░░░░│       │       │',\n",
    "            '2 │       │░░░░░░░│       │  - 1  │',\n",
    "            '  │       │░░░░░░░│       │       │',\n",
    "            '  ├───────┼───────┼───────┼───────┤',\n",
    "            '  │       │       │       │       │',\n",
    "            '1 │       │       │       │       │',\n",
    "            '  │       │       │       │       │',\n",
    "            '  └───────┴───────┴───────┴───────┘',\n",
    "            '      1       2       3       4'\n",
    "        ]"
   ]
  }
 ],
 "metadata": {
  "interpreter": {
   "hash": "ad2bdc8ecc057115af97d19610ffacc2b4e99fae6737bb82f5d7fb13d2f2c186"
  },
  "kernelspec": {
   "display_name": "Python 3.9.7 ('base')",
   "language": "python",
   "name": "python3"
  },
  "language_info": {
   "codemirror_mode": {
    "name": "ipython",
    "version": 3
   },
   "file_extension": ".py",
   "mimetype": "text/x-python",
   "name": "python",
   "nbconvert_exporter": "python",
   "pygments_lexer": "ipython3",
   "version": "3.9.7"
  },
  "orig_nbformat": 4
 },
 "nbformat": 4,
 "nbformat_minor": 2
}
